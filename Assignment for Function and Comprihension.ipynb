{
 "cells": [
  {
   "cell_type": "markdown",
   "id": "750633ca-4fe0-41a4-95a4-ba4264682c60",
   "metadata": {},
   "source": [
    "Q.1.Which keyword is used to create a function? Create a function to return a list of odd numbers in the \n",
    "range of 1 to 25."
   ]
  },
  {
   "cell_type": "markdown",
   "id": "2484ab9f-c5ab-40a4-8535-d5c0d4bec92b",
   "metadata": {},
   "source": [
    "Ans. def(defination) and test(as a function) are the keyword that are used to create a functiion."
   ]
  },
  {
   "cell_type": "code",
   "execution_count": 16,
   "id": "f4806e52-1f21-4cbf-bc0b-cbcf527b7442",
   "metadata": {},
   "outputs": [
    {
     "data": {
      "text/plain": [
       "range(1, 26)"
      ]
     },
     "execution_count": 16,
     "metadata": {},
     "output_type": "execute_result"
    }
   ],
   "source": [
    "range(1,26)"
   ]
  },
  {
   "cell_type": "code",
   "execution_count": 2,
   "id": "477f6d6d-ef0d-4fac-a0f2-e4c8c01bb61c",
   "metadata": {},
   "outputs": [
    {
     "data": {
      "text/plain": [
       "<generator object test at 0x7fa648336810>"
      ]
     },
     "execution_count": 2,
     "metadata": {},
     "output_type": "execute_result"
    }
   ],
   "source": [
    "l=range(1,26)\n",
    "l1=[]\n",
    "def test (l):\n",
    "    a=1\n",
    "    for i in l:\n",
    "        a= a+2\n",
    "        yield a\n",
    "        if type(i)== int or type(i)==float:\n",
    "            l1.append (i)\n",
    "    return l\n",
    "test (l)\n",
    "        "
   ]
  },
  {
   "cell_type": "code",
   "execution_count": 3,
   "id": "b0c2d323-433f-4ebd-bd28-2f7408ab53fb",
   "metadata": {},
   "outputs": [
    {
     "name": "stdout",
     "output_type": "stream",
     "text": [
      "3\n",
      "5\n",
      "7\n",
      "9\n",
      "11\n",
      "13\n",
      "15\n",
      "17\n",
      "19\n",
      "21\n",
      "23\n",
      "25\n",
      "27\n",
      "29\n",
      "31\n",
      "33\n",
      "35\n",
      "37\n",
      "39\n",
      "41\n",
      "43\n",
      "45\n",
      "47\n",
      "49\n",
      "51\n"
     ]
    }
   ],
   "source": [
    "for i in test(l):\n",
    "    print(i)"
   ]
  },
  {
   "cell_type": "code",
   "execution_count": 6,
   "id": "fbc033cc-da9f-4a40-9087-d16d11d5a7a7",
   "metadata": {},
   "outputs": [
    {
     "name": "stdout",
     "output_type": "stream",
     "text": [
      "3\n",
      "5\n",
      "7\n",
      "9\n",
      "11\n",
      "13\n",
      "15\n",
      "17\n",
      "19\n",
      "21\n",
      "23\n",
      "25\n"
     ]
    }
   ],
   "source": [
    "l=range(1,13)\n",
    "l1=[]\n",
    "def test(l):\n",
    "    a=1\n",
    "    for i in l:\n",
    "        a=a+2\n",
    "        yield a\n",
    "        if type (i)==int or type(i)==float:\n",
    "            l1.append (i)\n",
    "test (l)\n",
    "for i in test(l):\n",
    "    print(i)\n",
    "        "
   ]
  },
  {
   "cell_type": "markdown",
   "id": "4ed857e7-1ee9-48ee-a82f-6e4eef99785e",
   "metadata": {},
   "source": [
    "Q.2.Why *args and **kwargs is used in some functions? Create a function each for *args and **kwargs \n",
    "to demonstrate their use"
   ]
  },
  {
   "cell_type": "markdown",
   "id": "a3900bae-920a-401a-ae65-bae66c83dfc4",
   "metadata": {},
   "source": [
    "Ans. with the the help of *args ,we can pass or execute no of arguments or multiple inputs inside a function and it gives us the result in the form of tuple.while **kwargs helps us to exicute data in the Dictionary form\n"
   ]
  },
  {
   "cell_type": "code",
   "execution_count": 7,
   "id": "12308e7f-16cf-4f52-9a19-86f0093dcc37",
   "metadata": {},
   "outputs": [],
   "source": [
    "def test (*args):\n",
    "    return args"
   ]
  },
  {
   "cell_type": "code",
   "execution_count": 8,
   "id": "11f87315-6a24-4d63-9ec3-5d25b28a64c1",
   "metadata": {},
   "outputs": [
    {
     "data": {
      "text/plain": [
       "tuple"
      ]
     },
     "execution_count": 8,
     "metadata": {},
     "output_type": "execute_result"
    }
   ],
   "source": [
    "type(test())"
   ]
  },
  {
   "cell_type": "code",
   "execution_count": 9,
   "id": "cb5ebbd5-6f97-4d42-830c-084ae006ae8a",
   "metadata": {},
   "outputs": [
    {
     "data": {
      "text/plain": [
       "(1, 2, 3, 4, 'sudhanshu', 'sir', [1, 356, 32])"
      ]
     },
     "execution_count": 9,
     "metadata": {},
     "output_type": "execute_result"
    }
   ],
   "source": [
    "test(1,2,3,4,\"sudhanshu\",\"sir\",[1,356,32])"
   ]
  },
  {
   "cell_type": "code",
   "execution_count": 10,
   "id": "2371a53a-5f9a-4f0f-bfdd-86227acdf4d5",
   "metadata": {},
   "outputs": [],
   "source": [
    "def test(**kwargs):\n",
    "    return kwargs"
   ]
  },
  {
   "cell_type": "code",
   "execution_count": 11,
   "id": "8528fde7-908e-48b2-8439-fdee2ba74955",
   "metadata": {},
   "outputs": [
    {
     "data": {
      "text/plain": [
       "dict"
      ]
     },
     "execution_count": 11,
     "metadata": {},
     "output_type": "execute_result"
    }
   ],
   "source": [
    "type(test())"
   ]
  },
  {
   "cell_type": "code",
   "execution_count": 25,
   "id": "ccdbd9d3-c5a2-4b80-a2e8-b4f0e9917833",
   "metadata": {},
   "outputs": [
    {
     "data": {
      "text/plain": [
       "{'a': 'metaphor', 'b': [1, 2, 34, 4], 'c': 45.65, 'd': 'referendom', 'e': 10}"
      ]
     },
     "execution_count": 25,
     "metadata": {},
     "output_type": "execute_result"
    }
   ],
   "source": [
    "test(a=\"metaphor\",b=[1,2,34,4],c=45.65,d=\"referendom\",e=10)"
   ]
  },
  {
   "cell_type": "markdown",
   "id": "9797e600-8eac-4195-b7e5-52604054013e",
   "metadata": {},
   "source": [
    "Q3.  What is an iterator in python? Name the method used to initialise the iterator object and the method \n",
    "used for iteration. Use these methods to print the first five elements of the given list [2, 4, 6, 8, 10, 12, 14, \n",
    "16, 18, 20].\n"
   ]
  },
  {
   "cell_type": "markdown",
   "id": "024f144f-cadb-4145-86b0-0a48b8131f61",
   "metadata": {},
   "source": [
    "Ans. The kind of data or object that we can go through and from which we can extract further data in python .We use loop(for or while) method to itetrate data in python.eg:"
   ]
  },
  {
   "cell_type": "code",
   "execution_count": 1,
   "id": "27db178d-fe3f-4a65-8d7e-91a2421922c2",
   "metadata": {},
   "outputs": [],
   "source": [
    "l=[2,4,6,8,10,12,14,16,18,20]"
   ]
  },
  {
   "cell_type": "code",
   "execution_count": 23,
   "id": "2fa4ab70-4c2c-4816-b72b-010ca5e3d099",
   "metadata": {},
   "outputs": [
    {
     "data": {
      "text/plain": [
       "12"
      ]
     },
     "execution_count": 23,
     "metadata": {},
     "output_type": "execute_result"
    }
   ],
   "source": [
    "l[5]"
   ]
  },
  {
   "cell_type": "code",
   "execution_count": 2,
   "id": "2556c835-c58f-4e06-8bde-e415cc796502",
   "metadata": {},
   "outputs": [
    {
     "data": {
      "text/plain": [
       "10"
      ]
     },
     "execution_count": 2,
     "metadata": {},
     "output_type": "execute_result"
    }
   ],
   "source": [
    "len(l)"
   ]
  },
  {
   "cell_type": "code",
   "execution_count": 5,
   "id": "0bacc09a-6fc2-4e5c-b916-0922daf30dcf",
   "metadata": {},
   "outputs": [
    {
     "name": "stdout",
     "output_type": "stream",
     "text": [
      "2\n",
      "4\n",
      "6\n",
      "8\n",
      "10\n"
     ]
    }
   ],
   "source": [
    "for i in l:\n",
    "    if i>10:\n",
    "        break\n",
    "    print(i)\n"
   ]
  },
  {
   "cell_type": "code",
   "execution_count": 7,
   "id": "0acd09d0-9ec3-448e-a158-83dbc8d13865",
   "metadata": {},
   "outputs": [
    {
     "name": "stdout",
     "output_type": "stream",
     "text": [
      "2\n",
      "4\n",
      "6\n",
      "8\n",
      "10\n"
     ]
    }
   ],
   "source": [
    "l=[2,4,6,8,10,12,14,16,18,20]\n",
    "no= iter(l)\n",
    "for i in range (5):\n",
    "    print(next(no))"
   ]
  },
  {
   "cell_type": "markdown",
   "id": "7fba9a65-70cf-4f1a-91fc-5d69d5a1e78d",
   "metadata": {},
   "source": [
    "Q4.  What is a generator function in python? Why yield keyword is used? Give an example of a generator \n",
    "function."
   ]
  },
  {
   "cell_type": "markdown",
   "id": "e3176129-50f1-45fd-bfa3-8498eafde77f",
   "metadata": {},
   "source": [
    "Ans.It allows us in function to behave like an iterator .It can be used to abstract data to turn into a iterable object.Yield key word helps us to generate data while using the fuction."
   ]
  },
  {
   "cell_type": "code",
   "execution_count": 41,
   "id": "3eb4c732-522e-4714-81e7-22c0fd337626",
   "metadata": {},
   "outputs": [],
   "source": [
    "l=[1,2,3,4,5,6,7,8,9,10]"
   ]
  },
  {
   "cell_type": "code",
   "execution_count": 8,
   "id": "1cfad64c-a399-4bb4-84b2-864f1304807c",
   "metadata": {},
   "outputs": [
    {
     "name": "stdout",
     "output_type": "stream",
     "text": [
      "1\n",
      "2\n",
      "2\n",
      "3\n",
      "3\n",
      "4\n",
      "4\n",
      "5\n",
      "5\n",
      "6\n"
     ]
    }
   ],
   "source": [
    "def test(n):\n",
    "    a,b=1,2\n",
    "    for i in range(n):\n",
    "        yield a\n",
    "        a,b=b,a+1\n",
    "test(10)\n",
    "for i in test (10):\n",
    "    print(i)"
   ]
  },
  {
   "cell_type": "markdown",
   "id": "fcb30d8b-7d14-48c0-bb51-700b3569d409",
   "metadata": {},
   "source": [
    "Q5. Create a generator function for prime numbers less than 1000. Use the next() method to print the \n",
    "first 20 prime numbers."
   ]
  },
  {
   "cell_type": "code",
   "execution_count": 1,
   "id": "aff857d8-2f64-4f85-9a76-08a5be646158",
   "metadata": {},
   "outputs": [
    {
     "name": "stdin",
     "output_type": "stream",
     "text": [
      "enter the given number 100\n"
     ]
    }
   ],
   "source": [
    "l=int(input(\"enter the given number\"))\n",
    "n=1000\n",
    "l1=[]\n",
    "def test(n):\n",
    "    for i in range(1,1000):\n",
    "        a=1\n",
    "        yield a\n",
    "        if a %1==a or a %a==0:\n",
    "            l1.append(i)\n",
    "test(1000)\n",
    "for i in test(range(1,1000)):\n",
    "    print \n",
    "    "
   ]
  },
  {
   "cell_type": "markdown",
   "id": "329a178d-9e30-48e7-b079-57e80c87e4f5",
   "metadata": {},
   "source": [
    "Q6. Write a python program to print the first 10 Fibonacci numbers using a while loop."
   ]
  },
  {
   "cell_type": "code",
   "execution_count": 4,
   "id": "5732ddce-b51a-4153-822a-e779f082a3cf",
   "metadata": {},
   "outputs": [
    {
     "name": "stdout",
     "output_type": "stream",
     "text": [
      "0\n",
      "1\n",
      "1\n",
      "2\n",
      "3\n",
      "5\n",
      "8\n",
      "13\n",
      "21\n",
      "34\n"
     ]
    }
   ],
   "source": [
    "def test_fib():\n",
    "    a,b=0,1\n",
    "    while True:\n",
    "        yield a\n",
    "        a,b=b,a+b\n",
    "fib=test_fib()\n",
    "for i in range(10):\n",
    "    print(next(fib))"
   ]
  },
  {
   "cell_type": "code",
   "execution_count": 5,
   "id": "7f633236-f275-4d3f-b842-935aec270d46",
   "metadata": {},
   "outputs": [
    {
     "ename": "SyntaxError",
     "evalue": "'yield' outside function (2558133312.py, line 5)",
     "output_type": "error",
     "traceback": [
      "\u001b[0;36m  Cell \u001b[0;32mIn[5], line 5\u001b[0;36m\u001b[0m\n\u001b[0;31m    yield a\u001b[0m\n\u001b[0m    ^\u001b[0m\n\u001b[0;31mSyntaxError\u001b[0m\u001b[0;31m:\u001b[0m 'yield' outside function\n"
     ]
    }
   ],
   "source": [
    "while test_fib():\n",
    "    a,b=0.1\n",
    "    while i in range(n):\n",
    "        n<=10\n",
    "        yield a\n",
    "        a,b=b,a+b\n",
    "fib=test_fib()\n",
    "for i in range(10):\n",
    "    print(next(fib))"
   ]
  },
  {
   "cell_type": "markdown",
   "id": "f1f1a49a-c128-419d-b267-c59c53b4956e",
   "metadata": {},
   "source": [
    "Q7. Write a List Comprehension to iterate through the given string: ‘pwskills’.\n",
    "\n",
    "Expected output: ['p', 'w', 's', 'k', 'i', 'l', 'l', 's']"
   ]
  },
  {
   "cell_type": "code",
   "execution_count": 6,
   "id": "9ca771e0-320a-45ea-b4b5-dee39b1822c1",
   "metadata": {},
   "outputs": [],
   "source": [
    "s =\"pwskills\""
   ]
  },
  {
   "cell_type": "code",
   "execution_count": 13,
   "id": "21c76731-9bfe-479a-bbcc-daabca664257",
   "metadata": {},
   "outputs": [
    {
     "data": {
      "text/plain": [
       "['p', 'w', 's', 'k', 'i', 'l', 'l', 's']"
      ]
     },
     "execution_count": 13,
     "metadata": {},
     "output_type": "execute_result"
    }
   ],
   "source": [
    "[i for i in s]"
   ]
  },
  {
   "cell_type": "markdown",
   "id": "349a793b-35aa-439a-a727-380a8cee89bd",
   "metadata": {},
   "source": [
    "Q9. Write a code to print odd numbers from 1 to 100 using list comprehension.\n",
    "\n",
    "Note: Use a list comprehension to create a list from 1 to 100 and use another List comprehension to filter \n",
    "out odd numbers."
   ]
  },
  {
   "cell_type": "code",
   "execution_count": 10,
   "id": "5589622e-e5b2-4252-8d87-bcdd406d292c",
   "metadata": {},
   "outputs": [],
   "source": [
    "l=range(1,100)"
   ]
  },
  {
   "cell_type": "code",
   "execution_count": 11,
   "id": "a744b5f4-fe4d-4b19-bb69-b1bfe14053b3",
   "metadata": {},
   "outputs": [
    {
     "data": {
      "text/plain": [
       "[1,\n",
       " 2,\n",
       " 3,\n",
       " 4,\n",
       " 5,\n",
       " 6,\n",
       " 7,\n",
       " 8,\n",
       " 9,\n",
       " 10,\n",
       " 11,\n",
       " 12,\n",
       " 13,\n",
       " 14,\n",
       " 15,\n",
       " 16,\n",
       " 17,\n",
       " 18,\n",
       " 19,\n",
       " 20,\n",
       " 21,\n",
       " 22,\n",
       " 23,\n",
       " 24,\n",
       " 25,\n",
       " 26,\n",
       " 27,\n",
       " 28,\n",
       " 29,\n",
       " 30,\n",
       " 31,\n",
       " 32,\n",
       " 33,\n",
       " 34,\n",
       " 35,\n",
       " 36,\n",
       " 37,\n",
       " 38,\n",
       " 39,\n",
       " 40,\n",
       " 41,\n",
       " 42,\n",
       " 43,\n",
       " 44,\n",
       " 45,\n",
       " 46,\n",
       " 47,\n",
       " 48,\n",
       " 49,\n",
       " 50,\n",
       " 51,\n",
       " 52,\n",
       " 53,\n",
       " 54,\n",
       " 55,\n",
       " 56,\n",
       " 57,\n",
       " 58,\n",
       " 59,\n",
       " 60,\n",
       " 61,\n",
       " 62,\n",
       " 63,\n",
       " 64,\n",
       " 65,\n",
       " 66,\n",
       " 67,\n",
       " 68,\n",
       " 69,\n",
       " 70,\n",
       " 71,\n",
       " 72,\n",
       " 73,\n",
       " 74,\n",
       " 75,\n",
       " 76,\n",
       " 77,\n",
       " 78,\n",
       " 79,\n",
       " 80,\n",
       " 81,\n",
       " 82,\n",
       " 83,\n",
       " 84,\n",
       " 85,\n",
       " 86,\n",
       " 87,\n",
       " 88,\n",
       " 89,\n",
       " 90,\n",
       " 91,\n",
       " 92,\n",
       " 93,\n",
       " 94,\n",
       " 95,\n",
       " 96,\n",
       " 97,\n",
       " 98,\n",
       " 99]"
      ]
     },
     "execution_count": 11,
     "metadata": {},
     "output_type": "execute_result"
    }
   ],
   "source": [
    "[i for i in l]"
   ]
  },
  {
   "cell_type": "code",
   "execution_count": 21,
   "id": "52cdfe0d-fc4a-401c-b098-877e9575da7d",
   "metadata": {},
   "outputs": [
    {
     "data": {
      "text/plain": [
       "[1,\n",
       " 3,\n",
       " 5,\n",
       " 7,\n",
       " 9,\n",
       " 11,\n",
       " 13,\n",
       " 15,\n",
       " 17,\n",
       " 19,\n",
       " 21,\n",
       " 23,\n",
       " 25,\n",
       " 27,\n",
       " 29,\n",
       " 31,\n",
       " 33,\n",
       " 35,\n",
       " 37,\n",
       " 39,\n",
       " 41,\n",
       " 43,\n",
       " 45,\n",
       " 47,\n",
       " 49,\n",
       " 51,\n",
       " 53,\n",
       " 55,\n",
       " 57,\n",
       " 59,\n",
       " 61,\n",
       " 63,\n",
       " 65,\n",
       " 67,\n",
       " 69,\n",
       " 71,\n",
       " 73,\n",
       " 75,\n",
       " 77,\n",
       " 79,\n",
       " 81,\n",
       " 83,\n",
       " 85,\n",
       " 87,\n",
       " 89,\n",
       " 91,\n",
       " 93,\n",
       " 95,\n",
       " 97,\n",
       " 99]"
      ]
     },
     "execution_count": 21,
     "metadata": {},
     "output_type": "execute_result"
    }
   ],
   "source": [
    "[i for i in l if i%2==1]"
   ]
  },
  {
   "cell_type": "code",
   "execution_count": null,
   "id": "f2c7bfcf-efea-47bf-8265-fdf73a70a26c",
   "metadata": {},
   "outputs": [],
   "source": []
  }
 ],
 "metadata": {
  "kernelspec": {
   "display_name": "Python 3 (ipykernel)",
   "language": "python",
   "name": "python3"
  },
  "language_info": {
   "codemirror_mode": {
    "name": "ipython",
    "version": 3
   },
   "file_extension": ".py",
   "mimetype": "text/x-python",
   "name": "python",
   "nbconvert_exporter": "python",
   "pygments_lexer": "ipython3",
   "version": "3.10.8"
  }
 },
 "nbformat": 4,
 "nbformat_minor": 5
}
